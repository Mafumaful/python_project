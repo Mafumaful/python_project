{
 "cells": [
  {
   "cell_type": "code",
   "execution_count": 3,
   "metadata": {},
   "outputs": [],
   "source": [
    "%matplotlib inline\n",
    "import scipy\n",
    "from scipy import  constants"
   ]
  },
  {
   "cell_type": "code",
   "execution_count": 5,
   "metadata": {},
   "outputs": [
    {
     "name": "stdout",
     "output_type": "stream",
     "text": [
      "6.6743e-11\n",
      "299792458.0\n"
     ]
    }
   ],
   "source": [
    "Gravity = constants.G\n",
    "light_speed = constants.c\n",
    "print(Gravity)\n",
    "print(light_speed)\n"
   ]
  }
 ],
 "metadata": {
  "kernelspec": {
   "display_name": "SciPy",
   "language": "python",
   "name": "python3"
  },
  "language_info": {
   "codemirror_mode": {
    "name": "ipython",
    "version": 3
   },
   "file_extension": ".py",
   "mimetype": "text/x-python",
   "name": "python",
   "nbconvert_exporter": "python",
   "pygments_lexer": "ipython3",
   "version": "3.10.8 (main, Nov 24 2022, 14:13:03) [GCC 11.2.0]"
  },
  "orig_nbformat": 4,
  "vscode": {
   "interpreter": {
    "hash": "e03bd63dfdae9153ceae8ec8d7a6ac1066afc7a5f9d9e6c1dcdd977efabc1309"
   }
  }
 },
 "nbformat": 4,
 "nbformat_minor": 2
}
