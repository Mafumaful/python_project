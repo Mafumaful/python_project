{
 "cells": [
  {
   "attachments": {},
   "cell_type": "markdown",
   "metadata": {},
   "source": [
    "# 提取图片的HSV值并打印出来"
   ]
  },
  {
   "cell_type": "code",
   "execution_count": null,
   "metadata": {},
   "outputs": [],
   "source": [
    "# 引入头文件\n",
    "import cv2\n",
    "import numpy as np\n"
   ]
  },
  {
   "cell_type": "code",
   "execution_count": null,
   "metadata": {},
   "outputs": [],
   "source": [
    "\n",
    "\"\"\"\n",
    "功能：读取一张图片，显示出来，转化为HSV色彩空间\n",
    "     并通过滑块调节HSV阈值，实时显示\n",
    "\"\"\"\n",
    "\n",
    "# 根据路径读取一张图片，opencv读出来的是BGR模式\n",
    "image = cv2.imread('./images/car.jpeg')\n",
    "cv2.imshow(\"BGR\", image)  # 显示图片\n",
    "\n",
    "hsv_low = np.array([0, 0, 0])\n",
    "hsv_high = np.array([0, 0, 0])\n",
    "\n",
    "# 下面几个函数，写得有点冗余\n",
    "\n",
    "\n",
    "def h_low(value):\n",
    "    hsv_low[0] = value\n",
    "\n",
    "\n",
    "def h_high(value):\n",
    "    hsv_high[0] = value\n",
    "\n",
    "\n",
    "def s_low(value):\n",
    "    hsv_low[1] = value\n",
    "\n",
    "\n",
    "def s_high(value):\n",
    "    hsv_high[1] = value\n",
    "\n",
    "\n",
    "def v_low(value):\n",
    "    hsv_low[2] = value\n",
    "\n",
    "\n",
    "def v_high(value):\n",
    "    hsv_high[2] = value\n",
    "\n",
    "\n",
    "cv2.namedWindow('image', cv2.WINDOW_AUTOSIZE)\n",
    "\n",
    "# H low：\n",
    "#    0：指向整数变量的可选指针，该变量的值反映滑块的初始位置。\n",
    "#  255：表示滑块可以达到的最大位置的值为255，最小位置始终为0。\n",
    "# h_low：指向每次滑块更改位置时要调用的函数的指针，指针指向h_low元组，有默认值0。\n",
    "# （此函数的原型应为void XXX (int, void *); ，其中第一个参数是轨迹栏位置，第二个参数是用户数据（请参阅下一个参数）。如果回调是NULL指针，则不调用任何回调，而仅更新值。）\n",
    "cv2.createTrackbar('H low', 'image', 0, 255, h_low)\n",
    "cv2.createTrackbar('H high', 'image', 255, 255, h_high)\n",
    "cv2.createTrackbar('S low', 'image', 0, 255, s_low)\n",
    "cv2.createTrackbar('S high', 'image', 255, 255, s_high)\n",
    "cv2.createTrackbar('V low', 'image', 0, 255, v_low)\n",
    "cv2.createTrackbar('V high', 'image', 255, 255, v_high)\n",
    "\n",
    "while True:\n",
    "    dst = cv2.cvtColor(image, cv2.COLOR_BGR2HSV)  # BGR转HSV\n",
    "    dst = cv2.inRange(dst, hsv_low, hsv_high)  # 通过HSV的高低阈值，提取图像部分区域\n",
    "    cv2.imshow('dst', dst)\n",
    "    if cv2.waitKey(1) & 0xFF == ord('q'):\n",
    "        print(\"The hsv mask value is:\")\n",
    "        print('(', hsv_low[0], ',', hsv_low[1], ',', hsv_low[2], '),',\n",
    "              '(', hsv_high[0], ',', hsv_high[1], ',', hsv_high[2], ')')\n",
    "        break\n",
    "cv2.destroyAllWindows()\n"
   ]
  }
 ],
 "metadata": {
  "kernelspec": {
   "display_name": "OpenCV",
   "language": "python",
   "name": "python3"
  },
  "language_info": {
   "codemirror_mode": {
    "name": "ipython",
    "version": 3
   },
   "file_extension": ".py",
   "mimetype": "text/x-python",
   "name": "python",
   "nbconvert_exporter": "python",
   "pygments_lexer": "ipython3",
   "version": "3.8.15 (default, Nov 24 2022, 15:19:38) \n[GCC 11.2.0]"
  },
  "orig_nbformat": 4,
  "vscode": {
   "interpreter": {
    "hash": "9435d626ffc0e6f821d65b638ce424ef9a0e2def2be176b0afac9db9db9f3921"
   }
  }
 },
 "nbformat": 4,
 "nbformat_minor": 2
}
