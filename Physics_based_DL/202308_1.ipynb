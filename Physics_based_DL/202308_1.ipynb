{
 "cells": [
  {
   "attachments": {},
   "cell_type": "markdown",
   "metadata": {},
   "source": [
    "# Deep Learning for Physics-based Model"
   ]
  },
  {
   "cell_type": "code",
   "execution_count": null,
   "metadata": {},
   "outputs": [],
   "source": [
    "import numpy as np\n",
    "import tensorflow as tf\n",
    "import matplotlib.pyplot as plt\n"
   ]
  },
  {
   "attachments": {},
   "cell_type": "markdown",
   "metadata": {},
   "source": [
    "Generate random data for x and y, it's a parabola."
   ]
  },
  {
   "cell_type": "code",
   "execution_count": null,
   "metadata": {},
   "outputs": [],
   "source": [
    "# X-Data\n",
    "N = 200\n",
    "X = np.random.random(N)"
   ]
  },
  {
   "cell_type": "code",
   "execution_count": null,
   "metadata": {},
   "outputs": [],
   "source": [
    "# Generation Y-Data\n",
    "sign = (- np.ones((N,)))**np.random.randint(2,size=N)\n",
    "Y = np.sqrt(X) * sign"
   ]
  },
  {
   "attachments": {},
   "cell_type": "markdown",
   "metadata": {},
   "source": [
    "This is the network with three hidden layers, and use ReLU activation function."
   ]
  },
  {
   "cell_type": "code",
   "execution_count": null,
   "metadata": {},
   "outputs": [],
   "source": [
    "# Neural network\n",
    "act = tf.keras.layers.ReLU()\n",
    "nn_sv = tf.keras.models.Sequential([\n",
    "tf.keras.layers.Dense(10, activation=act, input_shape=(1,)),\n",
    "tf.keras.layers.Dense(10, activation=act),\n",
    "tf.keras.layers.Dense(1,activation='linear')])\n"
   ]
  },
  {
   "cell_type": "code",
   "execution_count": null,
   "metadata": {},
   "outputs": [],
   "source": [
    "# Loss function\n",
    "loss_sv = tf.keras.losses.MeanSquaredError()\n",
    "optimizer_sv = tf.keras.optimizers.Adam(learning_rate=0.001)\n",
    "nn_sv.compile(optimizer=optimizer_sv, loss=loss_sv)\n",
    "# Training\n",
    "results_sv = nn_sv.fit(X, Y, epochs=5, batch_size= 5, verbose=0)\n"
   ]
  },
  {
   "cell_type": "code",
   "execution_count": null,
   "metadata": {},
   "outputs": [],
   "source": [
    "# Results\n",
    "plt.plot(X,Y,'.',label='Data points', color=\"lightgray\")\n",
    "plt.plot(X,nn_sv.predict(X),'.',label='Supervised', color=\"red\")\n",
    "plt.xlabel('y')\n",
    "plt.ylabel('x')\n",
    "plt.title('Standard approach')\n",
    "plt.legend()"
   ]
  },
  {
   "attachments": {},
   "cell_type": "markdown",
   "metadata": {},
   "source": [
    "# A differentiable physics approach"
   ]
  },
  {
   "cell_type": "code",
   "execution_count": null,
   "metadata": {},
   "outputs": [],
   "source": [
    "# X-Data\n",
    "# X = X , we can directly re-use the X from above, nothing has changed...\n",
    "# Y is evaluated on the fly\n",
    "# Model\n",
    "nn_dp = tf.keras.models.Sequential([\n",
    "tf.keras.layers.Dense(10, activation=act, input_shape=(1,)),\n",
    "tf.keras.layers.Dense(10, activation=act),\n",
    "tf.keras.layers.Dense(1, activation='linear')])\n"
   ]
  },
  {
   "cell_type": "code",
   "execution_count": null,
   "metadata": {},
   "outputs": [],
   "source": [
    "#Loss\n",
    "mse = tf.keras.losses.MeanSquaredError()\n",
    "def loss_dp(y_true, y_pred):\n",
    "    return mse(y_true,y_pred**2)\n",
    "optimizer_dp = tf.keras.optimizers.Adam(learning_rate=0.001)\n",
    "nn_dp.compile(optimizer=optimizer_dp, loss=loss_dp)\n"
   ]
  },
  {
   "cell_type": "code",
   "execution_count": null,
   "metadata": {},
   "outputs": [],
   "source": [
    "# Results\n",
    "plt.plot(X,Y,'.',label='Datapoints', color=\"lightgray\")\n",
    "#plt.plot(X,nn_sv.predict(X),'.',label='Supervised', color=\"red\") # optional for comparison\n",
    "plt.plot(X,nn_dp.predict(X),'.',label='Diff. Phys.', color=\"green\")\n",
    "plt.xlabel('x')\n",
    "plt.ylabel('y')\n",
    "plt.title('Differentiable physics approach')\n",
    "plt.legend()\n"
   ]
  }
 ],
 "metadata": {
  "kernelspec": {
   "display_name": "base",
   "language": "python",
   "name": "python3"
  },
  "language_info": {
   "codemirror_mode": {
    "name": "ipython",
    "version": 3
   },
   "file_extension": ".py",
   "mimetype": "text/x-python",
   "name": "python",
   "nbconvert_exporter": "python",
   "pygments_lexer": "ipython3",
   "version": "3.9.13"
  },
  "orig_nbformat": 4
 },
 "nbformat": 4,
 "nbformat_minor": 2
}
